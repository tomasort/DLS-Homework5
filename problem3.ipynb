{
 "cells": [
  {
   "cell_type": "markdown",
   "metadata": {},
   "source": [
    "# Problem 3"
   ]
  },
  {
   "cell_type": "markdown",
   "metadata": {},
   "source": [
    "It is hard to show these steps in writing, so I'll try to explain things, but mainly show the screenshots of everything."
   ]
  },
  {
   "cell_type": "markdown",
   "metadata": {},
   "source": [
    "## 1. Setting up everything"
   ]
  },
  {
   "cell_type": "markdown",
   "metadata": {},
   "source": [
    "* (a) Set up a GCP project. \n",
    "* (b) And Install MiniKF and deploy your MinKF instance."
   ]
  },
  {
   "cell_type": "markdown",
   "metadata": {},
   "source": [
    "* I'll combine the answers for (a) and (b) because I forgot to take a screenshot of the setup of the GCP project, but you can see that the project is in fact up and running because it is shown in the top of the screenshot and we can see that it has my name and the name of the assignment. We can also see that at the bottom it says which project we are viewing, and it says that we are using the project for this assignment. I also have the billing information for this project because I didn't have credits left so they charged me $2. I feel like the billing stuff is not necessary, so I decided to just include this screenshot. ![](images/miniKF_deploy.png) For part (b), we can see that we successfully deployed a MiniKF instance"
   ]
  },
  {
   "cell_type": "markdown",
   "metadata": {},
   "source": [
    "* (c) Login to MiniKF, Kubeflow, and Rok. "
   ]
  },
  {
   "cell_type": "markdown",
   "metadata": {},
   "source": [
    "* To do this, we had to use the command minikf in the command line, and after waiting a while, we get: ![](images/login.png) After putting the login information, we see this: ![](images/after_login.png)"
   ]
  },
  {
   "cell_type": "markdown",
   "metadata": {},
   "source": [
    "## 2. Run a Pipeline from inside your Notebook: Follow the steps in the codelab to:"
   ]
  },
  {
   "cell_type": "markdown",
   "metadata": {},
   "source": [
    "* (a) Create a notebook server."
   ]
  },
  {
   "cell_type": "markdown",
   "metadata": {},
   "source": [
    "* In this picture we can see the created notebook. ![](images/notebook.png)"
   ]
  },
  {
   "cell_type": "markdown",
   "metadata": {},
   "source": [
    "* (b) Download and run the notebook: We will be using pytorch-classification notbeook from the example repo."
   ]
  },
  {
   "cell_type": "markdown",
   "metadata": {},
   "source": [
    "* In this picture we can see the downloaded notebook. ![](images/downloaded.png) And In this other picture we see that the notebook is running. ![](images/running.png) And one more screenshot showing the accuracy: ![](images/accuracy.png)"
   ]
  },
  {
   "cell_type": "markdown",
   "metadata": {},
   "source": [
    "* (c) Convert your notebook to a Kubeflow Pipeline: Enable Kale and then compile and run the pipeline from Kale Deployment Panel. Show output from each of the 5 steps of the pipeline"
   ]
  },
  {
   "cell_type": "markdown",
   "metadata": {},
   "source": [
    "* After converting the notebook we get: ![](images/pipeline.png) After compiling the pipeline, we have: ![](images/pipeline_compiled.png) If we want to see the output at each stage, we can go through them: Taking snapshot ![](images/snapshots.png) Compiling notebook ![](images/compile.png) Uploading pipeline ![](images/pipelines.png) Also, the results of running the pipeline can be seen in the following screenshots. ![](images/run1.png) ![](images/run2.png) ![](images/run3.png) ![](images/run4.png) ![](images/run5.png)"
   ]
  },
  {
   "cell_type": "markdown",
   "metadata": {},
   "source": [
    "* (d) Show snapshots of ”Graph” and ”Run output” of the experiment."
   ]
  },
  {
   "cell_type": "markdown",
   "metadata": {},
   "source": [
    "* We can see the graphs from the previous question, but we can also see the entire graph by turning simplify graph off. ![](images/full_graph.png) And from the 'Runs' window: ![](images/runs_graph.png) Unfortunately, I could not get any output from the notebook to show in in the 'Run Output' window. ![](images/run_output.png)"
   ]
  },
  {
   "cell_type": "markdown",
   "metadata": {},
   "source": [
    "* (e) Cleanup: Destroy the MiniKF VM."
   ]
  },
  {
   "cell_type": "markdown",
   "metadata": {},
   "source": [
    "* To clean everything up, I first deleted the notebook, then I deleted the MiniKF VM as shown in the screenshot below. ![](images/delete_deployment.png)."
   ]
  }
 ],
 "metadata": {
  "language_info": {
   "name": "python"
  },
  "orig_nbformat": 4
 },
 "nbformat": 4,
 "nbformat_minor": 2
}
